{
 "cells": [
  {
   "cell_type": "code",
   "execution_count": 35,
   "id": "566a7151",
   "metadata": {},
   "outputs": [],
   "source": [
    "import numpy as np\n",
    "import pandas as pd\n",
    "import matplotlib.pyplot as plt"
   ]
  },
  {
   "cell_type": "code",
   "execution_count": 36,
   "id": "5a85efd5",
   "metadata": {},
   "outputs": [],
   "source": [
    "veri = pd.read_csv(\"train.csv\")"
   ]
  },
  {
   "cell_type": "code",
   "execution_count": 37,
   "id": "1b7e67b4",
   "metadata": {},
   "outputs": [
    {
     "data": {
      "text/html": [
       "<div>\n",
       "<style scoped>\n",
       "    .dataframe tbody tr th:only-of-type {\n",
       "        vertical-align: middle;\n",
       "    }\n",
       "\n",
       "    .dataframe tbody tr th {\n",
       "        vertical-align: top;\n",
       "    }\n",
       "\n",
       "    .dataframe thead th {\n",
       "        text-align: right;\n",
       "    }\n",
       "</style>\n",
       "<table border=\"1\" class=\"dataframe\">\n",
       "  <thead>\n",
       "    <tr style=\"text-align: right;\">\n",
       "      <th></th>\n",
       "      <th>label</th>\n",
       "      <th>pixel0</th>\n",
       "      <th>pixel1</th>\n",
       "      <th>pixel2</th>\n",
       "      <th>pixel3</th>\n",
       "      <th>pixel4</th>\n",
       "      <th>pixel5</th>\n",
       "      <th>pixel6</th>\n",
       "      <th>pixel7</th>\n",
       "      <th>pixel8</th>\n",
       "      <th>...</th>\n",
       "      <th>pixel774</th>\n",
       "      <th>pixel775</th>\n",
       "      <th>pixel776</th>\n",
       "      <th>pixel777</th>\n",
       "      <th>pixel778</th>\n",
       "      <th>pixel779</th>\n",
       "      <th>pixel780</th>\n",
       "      <th>pixel781</th>\n",
       "      <th>pixel782</th>\n",
       "      <th>pixel783</th>\n",
       "    </tr>\n",
       "  </thead>\n",
       "  <tbody>\n",
       "    <tr>\n",
       "      <th>0</th>\n",
       "      <td>1</td>\n",
       "      <td>0</td>\n",
       "      <td>0</td>\n",
       "      <td>0</td>\n",
       "      <td>0</td>\n",
       "      <td>0</td>\n",
       "      <td>0</td>\n",
       "      <td>0</td>\n",
       "      <td>0</td>\n",
       "      <td>0</td>\n",
       "      <td>...</td>\n",
       "      <td>0</td>\n",
       "      <td>0</td>\n",
       "      <td>0</td>\n",
       "      <td>0</td>\n",
       "      <td>0</td>\n",
       "      <td>0</td>\n",
       "      <td>0</td>\n",
       "      <td>0</td>\n",
       "      <td>0</td>\n",
       "      <td>0</td>\n",
       "    </tr>\n",
       "    <tr>\n",
       "      <th>1</th>\n",
       "      <td>0</td>\n",
       "      <td>0</td>\n",
       "      <td>0</td>\n",
       "      <td>0</td>\n",
       "      <td>0</td>\n",
       "      <td>0</td>\n",
       "      <td>0</td>\n",
       "      <td>0</td>\n",
       "      <td>0</td>\n",
       "      <td>0</td>\n",
       "      <td>...</td>\n",
       "      <td>0</td>\n",
       "      <td>0</td>\n",
       "      <td>0</td>\n",
       "      <td>0</td>\n",
       "      <td>0</td>\n",
       "      <td>0</td>\n",
       "      <td>0</td>\n",
       "      <td>0</td>\n",
       "      <td>0</td>\n",
       "      <td>0</td>\n",
       "    </tr>\n",
       "    <tr>\n",
       "      <th>2</th>\n",
       "      <td>1</td>\n",
       "      <td>0</td>\n",
       "      <td>0</td>\n",
       "      <td>0</td>\n",
       "      <td>0</td>\n",
       "      <td>0</td>\n",
       "      <td>0</td>\n",
       "      <td>0</td>\n",
       "      <td>0</td>\n",
       "      <td>0</td>\n",
       "      <td>...</td>\n",
       "      <td>0</td>\n",
       "      <td>0</td>\n",
       "      <td>0</td>\n",
       "      <td>0</td>\n",
       "      <td>0</td>\n",
       "      <td>0</td>\n",
       "      <td>0</td>\n",
       "      <td>0</td>\n",
       "      <td>0</td>\n",
       "      <td>0</td>\n",
       "    </tr>\n",
       "    <tr>\n",
       "      <th>3</th>\n",
       "      <td>4</td>\n",
       "      <td>0</td>\n",
       "      <td>0</td>\n",
       "      <td>0</td>\n",
       "      <td>0</td>\n",
       "      <td>0</td>\n",
       "      <td>0</td>\n",
       "      <td>0</td>\n",
       "      <td>0</td>\n",
       "      <td>0</td>\n",
       "      <td>...</td>\n",
       "      <td>0</td>\n",
       "      <td>0</td>\n",
       "      <td>0</td>\n",
       "      <td>0</td>\n",
       "      <td>0</td>\n",
       "      <td>0</td>\n",
       "      <td>0</td>\n",
       "      <td>0</td>\n",
       "      <td>0</td>\n",
       "      <td>0</td>\n",
       "    </tr>\n",
       "    <tr>\n",
       "      <th>4</th>\n",
       "      <td>0</td>\n",
       "      <td>0</td>\n",
       "      <td>0</td>\n",
       "      <td>0</td>\n",
       "      <td>0</td>\n",
       "      <td>0</td>\n",
       "      <td>0</td>\n",
       "      <td>0</td>\n",
       "      <td>0</td>\n",
       "      <td>0</td>\n",
       "      <td>...</td>\n",
       "      <td>0</td>\n",
       "      <td>0</td>\n",
       "      <td>0</td>\n",
       "      <td>0</td>\n",
       "      <td>0</td>\n",
       "      <td>0</td>\n",
       "      <td>0</td>\n",
       "      <td>0</td>\n",
       "      <td>0</td>\n",
       "      <td>0</td>\n",
       "    </tr>\n",
       "  </tbody>\n",
       "</table>\n",
       "<p>5 rows × 785 columns</p>\n",
       "</div>"
      ],
      "text/plain": [
       "   label  pixel0  pixel1  pixel2  pixel3  pixel4  pixel5  pixel6  pixel7  \\\n",
       "0      1       0       0       0       0       0       0       0       0   \n",
       "1      0       0       0       0       0       0       0       0       0   \n",
       "2      1       0       0       0       0       0       0       0       0   \n",
       "3      4       0       0       0       0       0       0       0       0   \n",
       "4      0       0       0       0       0       0       0       0       0   \n",
       "\n",
       "   pixel8  ...  pixel774  pixel775  pixel776  pixel777  pixel778  pixel779  \\\n",
       "0       0  ...         0         0         0         0         0         0   \n",
       "1       0  ...         0         0         0         0         0         0   \n",
       "2       0  ...         0         0         0         0         0         0   \n",
       "3       0  ...         0         0         0         0         0         0   \n",
       "4       0  ...         0         0         0         0         0         0   \n",
       "\n",
       "   pixel780  pixel781  pixel782  pixel783  \n",
       "0         0         0         0         0  \n",
       "1         0         0         0         0  \n",
       "2         0         0         0         0  \n",
       "3         0         0         0         0  \n",
       "4         0         0         0         0  \n",
       "\n",
       "[5 rows x 785 columns]"
      ]
     },
     "execution_count": 37,
     "metadata": {},
     "output_type": "execute_result"
    }
   ],
   "source": [
    "veri.head()"
   ]
  },
  {
   "cell_type": "code",
   "execution_count": 38,
   "id": "11891b23",
   "metadata": {},
   "outputs": [
    {
     "data": {
      "text/plain": [
       "(42000, 785)"
      ]
     },
     "execution_count": 38,
     "metadata": {},
     "output_type": "execute_result"
    }
   ],
   "source": [
    "veri.shape"
   ]
  },
  {
   "cell_type": "code",
   "execution_count": 39,
   "id": "f831080b",
   "metadata": {},
   "outputs": [],
   "source": [
    "from keras.datasets import mnist"
   ]
  },
  {
   "cell_type": "code",
   "execution_count": 40,
   "id": "f56ed6bd",
   "metadata": {},
   "outputs": [],
   "source": [
    "(xtrain,ytrain), (xtest,ytest) = mnist.load_data()"
   ]
  },
  {
   "cell_type": "code",
   "execution_count": 41,
   "id": "7fbc30c2",
   "metadata": {},
   "outputs": [
    {
     "data": {
      "text/plain": [
       "(42000, 784)"
      ]
     },
     "execution_count": 41,
     "metadata": {},
     "output_type": "execute_result"
    }
   ],
   "source": [
    "x, y = veri.drop([\"label\"], axis = 1).values, veri[\"label\"]\n",
    "x.shape\n"
   ]
  },
  {
   "cell_type": "code",
   "execution_count": 42,
   "id": "5fd4abda",
   "metadata": {},
   "outputs": [
    {
     "data": {
      "text/plain": [
       "(42000,)"
      ]
     },
     "execution_count": 42,
     "metadata": {},
     "output_type": "execute_result"
    }
   ],
   "source": [
    "y.shape"
   ]
  },
  {
   "cell_type": "code",
   "execution_count": 43,
   "id": "1708d826",
   "metadata": {},
   "outputs": [
    {
     "data": {
      "text/plain": [
       "(42000, 785)"
      ]
     },
     "execution_count": 43,
     "metadata": {},
     "output_type": "execute_result"
    }
   ],
   "source": [
    "veri.shape"
   ]
  },
  {
   "cell_type": "code",
   "execution_count": 44,
   "id": "0c7ee270",
   "metadata": {},
   "outputs": [
    {
     "data": {
      "image/png": "[encoded data removed]",
      "text/plain": [
       "<Figure size 720x576 with 9 Axes>"
      ]
     },
     "metadata": {
      "needs_background": "light"
     },
     "output_type": "display_data"
    }
   ],
   "source": [
    "plt.figure(figsize=(10,8))\n",
    "for i in np.arange(1,10):\n",
    "    plt.subplot(int(\"33\" + str(i)))\n",
    "    plt.imshow(xtrain[i+10].reshape(28,28), cmap=plt.cm.binary)\n",
    "    plt.title(ytrain[i+10])\n",
    "    plt.axis(\"off\")\n",
    "plt.show()"
   ]
  },
  {
   "cell_type": "code",
   "execution_count": 45,
   "id": "2cec0fda",
   "metadata": {},
   "outputs": [],
   "source": [
    "num_train = 38000\n",
    "xtrain, xtest, ytrain, ytest = x[:num_train], x[num_train:], y[:num_train], y[num_train:]"
   ]
  },
  {
   "cell_type": "code",
   "execution_count": 46,
   "id": "e756faf6",
   "metadata": {},
   "outputs": [
    {
     "data": {
      "text/plain": [
       "KNeighborsClassifier()"
      ]
     },
     "execution_count": 46,
     "metadata": {},
     "output_type": "execute_result"
    }
   ],
   "source": [
    "from sklearn.neighbors import KNeighborsClassifier\n",
    "knn = KNeighborsClassifier()\n",
    "knn.fit(xtrain, ytrain)"
   ]
  },
  {
   "cell_type": "code",
   "execution_count": 47,
   "id": "e600a450",
   "metadata": {},
   "outputs": [
    {
     "data": {
      "text/plain": [
       "(4000, 784)"
      ]
     },
     "execution_count": 47,
     "metadata": {},
     "output_type": "execute_result"
    }
   ],
   "source": [
    "xtest.shape"
   ]
  },
  {
   "cell_type": "code",
   "execution_count": 48,
   "id": "e64f4ec4",
   "metadata": {},
   "outputs": [
    {
     "name": "stdout",
     "output_type": "stream",
     "text": [
      "[5 7 5 ... 7 6 9]\n"
     ]
    }
   ],
   "source": [
    "tahmin = knn.predict(xtest)\n",
    "print(tahmin)"
   ]
  },
  {
   "cell_type": "code",
   "execution_count": 49,
   "id": "6a65e3b6",
   "metadata": {},
   "outputs": [
    {
     "data": {
      "text/plain": [
       "0.969"
      ]
     },
     "execution_count": 49,
     "metadata": {},
     "output_type": "execute_result"
    }
   ],
   "source": [
    "from sklearn.metrics import accuracy_score\n",
    "accuracy_score(ytest, tahmin)"
   ]
  },
  {
   "cell_type": "code",
   "execution_count": 50,
   "id": "995ad9ac",
   "metadata": {},
   "outputs": [
    {
     "data": {
      "text/plain": [
       "array([[428,   0,   0,   0,   0,   1,   1,   0,   0,   0],\n",
       "       [  0, 442,   0,   0,   0,   0,   0,   0,   0,   0],\n",
       "       [  3,   3, 353,   1,   0,   0,   0,  11,   0,   1],\n",
       "       [  1,   0,   2, 411,   0,   4,   0,   1,   1,   1],\n",
       "       [  0,   3,   0,   0, 409,   0,   2,   0,   1,   7],\n",
       "       [  1,   1,   0,   3,   0, 320,   4,   0,   2,   3],\n",
       "       [  0,   0,   0,   0,   1,   1, 398,   0,   0,   0],\n",
       "       [  0,   3,   2,   0,   1,   0,   0, 390,   0,   5],\n",
       "       [  2,  16,   1,   5,   2,   5,   0,   1, 343,   4],\n",
       "       [  1,   1,   2,   1,   4,   2,   0,   5,   1, 382]], dtype=int64)"
      ]
     },
     "execution_count": 50,
     "metadata": {},
     "output_type": "execute_result"
    }
   ],
   "source": [
    "from sklearn.metrics import confusion_matrix\n",
    "confusion_matrix(ytest, tahmin)"
   ]
  },
  {
   "cell_type": "code",
   "execution_count": 51,
   "id": "c345e2d0",
   "metadata": {},
   "outputs": [],
   "source": [
    "from keras.utils import to_categorical\n",
    "ytrain = to_categorical(ytrain)\n",
    "from keras.models import Sequential\n",
    "from keras.layers import Dense"
   ]
  },
  {
   "cell_type": "code",
   "execution_count": 52,
   "id": "6a3d26a2",
   "metadata": {},
   "outputs": [],
   "source": [
    "model = Sequential()\n",
    "\n",
    "model.add(Dense(10, activation = \"relu\", input_shape=(xtrain.shape[1],)))\n",
    "model.add(Dense(10, activation = \"relu\"))\n",
    "model.add(Dense(10, activation = \"relu\"))\n",
    "model.add(Dense(10, activation = \"softmax\"))\n",
    "\n",
    "model.compile(loss=\"categorical_crossentropy\",optimizer= \"adam\", metrics=[\"accuracy\"])"
   ]
  },
  {
   "cell_type": "code",
   "execution_count": 53,
   "id": "41d60c41",
   "metadata": {},
   "outputs": [
    {
     "name": "stdout",
     "output_type": "stream",
     "text": [
      "Epoch 1/200\n",
      "1188/1188 - 1s - loss: 1.8660 - accuracy: 0.3015\n",
      "Epoch 2/200\n",
      "1188/1188 - 1s - loss: 1.2522 - accuracy: 0.5144\n",
      "Epoch 3/200\n",
      "1188/1188 - 1s - loss: 0.8642 - accuracy: 0.7042\n",
      "Epoch 4/200\n",
      "1188/1188 - 1s - loss: 0.7243 - accuracy: 0.7517\n",
      "Epoch 5/200\n",
      "1188/1188 - 1s - loss: 0.6664 - accuracy: 0.7734\n",
      "Epoch 6/200\n",
      "1188/1188 - 1s - loss: 0.6226 - accuracy: 0.7909\n",
      "Epoch 7/200\n",
      "1188/1188 - 1s - loss: 0.5830 - accuracy: 0.8063\n",
      "Epoch 8/200\n",
      "1188/1188 - 1s - loss: 0.5458 - accuracy: 0.8224\n",
      "Epoch 9/200\n",
      "1188/1188 - 1s - loss: 0.5201 - accuracy: 0.8365\n",
      "Epoch 10/200\n",
      "1188/1188 - 1s - loss: 0.4999 - accuracy: 0.8426\n",
      "Epoch 11/200\n",
      "1188/1188 - 1s - loss: 0.4887 - accuracy: 0.8481\n",
      "Epoch 12/200\n",
      "1188/1188 - 1s - loss: 0.4777 - accuracy: 0.8504\n",
      "Epoch 13/200\n",
      "1188/1188 - 1s - loss: 0.4573 - accuracy: 0.8548\n",
      "Epoch 14/200\n",
      "1188/1188 - 1s - loss: 0.4496 - accuracy: 0.8598\n",
      "Epoch 15/200\n",
      "1188/1188 - 1s - loss: 0.4462 - accuracy: 0.8621\n",
      "Epoch 16/200\n",
      "1188/1188 - 1s - loss: 0.4356 - accuracy: 0.8659\n",
      "Epoch 17/200\n",
      "1188/1188 - 1s - loss: 0.4317 - accuracy: 0.8677\n",
      "Epoch 18/200\n",
      "1188/1188 - 1s - loss: 0.4232 - accuracy: 0.8684\n",
      "Epoch 19/200\n",
      "1188/1188 - 1s - loss: 0.4069 - accuracy: 0.8762\n",
      "Epoch 20/200\n",
      "1188/1188 - 1s - loss: 0.3984 - accuracy: 0.8804\n",
      "Epoch 21/200\n",
      "1188/1188 - 1s - loss: 0.3914 - accuracy: 0.8809\n",
      "Epoch 22/200\n",
      "1188/1188 - 1s - loss: 0.3843 - accuracy: 0.8833\n",
      "Epoch 23/200\n",
      "1188/1188 - 1s - loss: 0.3794 - accuracy: 0.8859\n",
      "Epoch 24/200\n",
      "1188/1188 - 1s - loss: 0.3765 - accuracy: 0.8867\n",
      "Epoch 25/200\n",
      "1188/1188 - 1s - loss: 0.3688 - accuracy: 0.8891\n",
      "Epoch 26/200\n",
      "1188/1188 - 1s - loss: 0.3706 - accuracy: 0.8888\n",
      "Epoch 27/200\n",
      "1188/1188 - 1s - loss: 0.3641 - accuracy: 0.8896\n",
      "Epoch 28/200\n",
      "1188/1188 - 1s - loss: 0.3605 - accuracy: 0.8926\n",
      "Epoch 29/200\n",
      "1188/1188 - 1s - loss: 0.3595 - accuracy: 0.8926\n",
      "Epoch 30/200\n",
      "1188/1188 - 1s - loss: 0.3589 - accuracy: 0.8928\n",
      "Epoch 31/200\n",
      "1188/1188 - 1s - loss: 0.3589 - accuracy: 0.8924\n",
      "Epoch 32/200\n",
      "1188/1188 - 1s - loss: 0.3594 - accuracy: 0.8926\n",
      "Epoch 33/200\n",
      "1188/1188 - 1s - loss: 0.3559 - accuracy: 0.8926\n",
      "Epoch 34/200\n",
      "1188/1188 - 1s - loss: 0.3518 - accuracy: 0.8942\n",
      "Epoch 35/200\n",
      "1188/1188 - 1s - loss: 0.3507 - accuracy: 0.8954\n",
      "Epoch 36/200\n",
      "1188/1188 - 1s - loss: 0.3473 - accuracy: 0.8961\n",
      "Epoch 37/200\n",
      "1188/1188 - 1s - loss: 0.3525 - accuracy: 0.8949\n",
      "Epoch 38/200\n",
      "1188/1188 - 1s - loss: 0.3475 - accuracy: 0.8955\n",
      "Epoch 39/200\n",
      "1188/1188 - 1s - loss: 0.3446 - accuracy: 0.8967\n",
      "Epoch 40/200\n",
      "1188/1188 - 1s - loss: 0.3439 - accuracy: 0.8982\n",
      "Epoch 41/200\n",
      "1188/1188 - 1s - loss: 0.3416 - accuracy: 0.8987\n",
      "Epoch 42/200\n",
      "1188/1188 - 1s - loss: 0.3488 - accuracy: 0.8948\n",
      "Epoch 43/200\n",
      "1188/1188 - 1s - loss: 0.3419 - accuracy: 0.8968\n",
      "Epoch 44/200\n",
      "1188/1188 - 1s - loss: 0.3453 - accuracy: 0.8959\n",
      "Epoch 45/200\n",
      "1188/1188 - 1s - loss: 0.3384 - accuracy: 0.8977\n",
      "Epoch 46/200\n",
      "1188/1188 - 1s - loss: 0.3370 - accuracy: 0.8987\n",
      "Epoch 47/200\n",
      "1188/1188 - 1s - loss: 0.3399 - accuracy: 0.8972\n",
      "Epoch 48/200\n",
      "1188/1188 - 1s - loss: 0.3397 - accuracy: 0.8969\n",
      "Epoch 49/200\n",
      "1188/1188 - 1s - loss: 0.3354 - accuracy: 0.8991\n",
      "Epoch 50/200\n",
      "1188/1188 - 1s - loss: 0.3345 - accuracy: 0.8998\n",
      "Epoch 51/200\n",
      "1188/1188 - 1s - loss: 0.3323 - accuracy: 0.9010\n",
      "Epoch 52/200\n",
      "1188/1188 - 1s - loss: 0.3366 - accuracy: 0.8989\n",
      "Epoch 53/200\n",
      "1188/1188 - 1s - loss: 0.3434 - accuracy: 0.8949\n",
      "Epoch 54/200\n",
      "1188/1188 - 1s - loss: 0.3355 - accuracy: 0.8972\n",
      "Epoch 55/200\n",
      "1188/1188 - 1s - loss: 0.3329 - accuracy: 0.9012\n",
      "Epoch 56/200\n",
      "1188/1188 - 1s - loss: 0.3305 - accuracy: 0.9017\n",
      "Epoch 57/200\n",
      "1188/1188 - 1s - loss: 0.3327 - accuracy: 0.8999\n",
      "Epoch 58/200\n",
      "1188/1188 - 1s - loss: 0.3276 - accuracy: 0.9009\n",
      "Epoch 59/200\n",
      "1188/1188 - 1s - loss: 0.3287 - accuracy: 0.9013\n",
      "Epoch 60/200\n",
      "1188/1188 - 1s - loss: 0.3260 - accuracy: 0.9024\n",
      "Epoch 61/200\n",
      "1188/1188 - 1s - loss: 0.3318 - accuracy: 0.9006\n",
      "Epoch 62/200\n",
      "1188/1188 - 1s - loss: 0.3288 - accuracy: 0.9009\n",
      "Epoch 63/200\n",
      "1188/1188 - 1s - loss: 0.3256 - accuracy: 0.9009\n",
      "Epoch 64/200\n",
      "1188/1188 - 1s - loss: 0.3237 - accuracy: 0.9036\n",
      "Epoch 65/200\n",
      "1188/1188 - 1s - loss: 0.3231 - accuracy: 0.9023\n",
      "Epoch 66/200\n",
      "1188/1188 - 1s - loss: 0.3237 - accuracy: 0.9018\n",
      "Epoch 67/200\n",
      "1188/1188 - 1s - loss: 0.3231 - accuracy: 0.9028\n",
      "Epoch 68/200\n",
      "1188/1188 - 1s - loss: 0.3265 - accuracy: 0.9034\n",
      "Epoch 69/200\n",
      "1188/1188 - 1s - loss: 0.3263 - accuracy: 0.9005\n",
      "Epoch 70/200\n",
      "1188/1188 - 1s - loss: 0.3232 - accuracy: 0.9023\n",
      "Epoch 71/200\n",
      "1188/1188 - 1s - loss: 0.3213 - accuracy: 0.9021\n",
      "Epoch 72/200\n",
      "1188/1188 - 1s - loss: 0.3223 - accuracy: 0.9041\n",
      "Epoch 73/200\n",
      "1188/1188 - 1s - loss: 0.3224 - accuracy: 0.9021\n",
      "Epoch 74/200\n",
      "1188/1188 - 1s - loss: 0.3167 - accuracy: 0.9047\n",
      "Epoch 75/200\n",
      "1188/1188 - 1s - loss: 0.3209 - accuracy: 0.9031\n",
      "Epoch 76/200\n",
      "1188/1188 - 1s - loss: 0.3187 - accuracy: 0.9033\n",
      "Epoch 77/200\n",
      "1188/1188 - 1s - loss: 0.3215 - accuracy: 0.9039\n",
      "Epoch 78/200\n",
      "1188/1188 - 1s - loss: 0.3180 - accuracy: 0.9048\n",
      "Epoch 79/200\n",
      "1188/1188 - 1s - loss: 0.3173 - accuracy: 0.9042\n",
      "Epoch 80/200\n",
      "1188/1188 - 1s - loss: 0.3142 - accuracy: 0.9052\n",
      "Epoch 81/200\n",
      "1188/1188 - 1s - loss: 0.3170 - accuracy: 0.9051\n",
      "Epoch 82/200\n",
      "1188/1188 - 1s - loss: 0.3182 - accuracy: 0.9027\n",
      "Epoch 83/200\n",
      "1188/1188 - 1s - loss: 0.3167 - accuracy: 0.9047\n",
      "Epoch 84/200\n",
      "1188/1188 - 1s - loss: 0.3147 - accuracy: 0.9062\n",
      "Epoch 85/200\n",
      "1188/1188 - 1s - loss: 0.3174 - accuracy: 0.9029\n",
      "Epoch 86/200\n",
      "1188/1188 - 1s - loss: 0.3148 - accuracy: 0.9047\n",
      "Epoch 87/200\n",
      "1188/1188 - 1s - loss: 0.3121 - accuracy: 0.9068\n",
      "Epoch 88/200\n",
      "1188/1188 - 1s - loss: 0.3140 - accuracy: 0.9052\n",
      "Epoch 89/200\n",
      "1188/1188 - 1s - loss: 0.3135 - accuracy: 0.9047\n",
      "Epoch 90/200\n",
      "1188/1188 - 1s - loss: 0.3128 - accuracy: 0.9070\n",
      "Epoch 91/200\n",
      "1188/1188 - 1s - loss: 0.3138 - accuracy: 0.9059\n",
      "Epoch 92/200\n",
      "1188/1188 - 1s - loss: 0.3150 - accuracy: 0.9049\n",
      "Epoch 93/200\n",
      "1188/1188 - 1s - loss: 0.3108 - accuracy: 0.9073\n",
      "Epoch 94/200\n",
      "1188/1188 - 1s - loss: 0.3155 - accuracy: 0.9043\n",
      "Epoch 95/200\n",
      "1188/1188 - 1s - loss: 0.3090 - accuracy: 0.9068\n",
      "Epoch 96/200\n",
      "1188/1188 - 1s - loss: 0.3116 - accuracy: 0.9058\n",
      "Epoch 97/200\n",
      "1188/1188 - 1s - loss: 0.3120 - accuracy: 0.9062\n",
      "Epoch 98/200\n",
      "1188/1188 - 1s - loss: 0.3120 - accuracy: 0.9068\n",
      "Epoch 99/200\n",
      "1188/1188 - 1s - loss: 0.3081 - accuracy: 0.9080\n",
      "Epoch 100/200\n",
      "1188/1188 - 1s - loss: 0.3059 - accuracy: 0.9071\n",
      "Epoch 101/200\n",
      "1188/1188 - 1s - loss: 0.3100 - accuracy: 0.9069\n",
      "Epoch 102/200\n",
      "1188/1188 - 1s - loss: 0.3106 - accuracy: 0.9059\n",
      "Epoch 103/200\n",
      "1188/1188 - 1s - loss: 0.3093 - accuracy: 0.9077\n",
      "Epoch 104/200\n",
      "1188/1188 - 1s - loss: 0.3070 - accuracy: 0.9061\n",
      "Epoch 105/200\n",
      "1188/1188 - 1s - loss: 0.3097 - accuracy: 0.9062\n",
      "Epoch 106/200\n",
      "1188/1188 - 1s - loss: 0.3087 - accuracy: 0.9064\n",
      "Epoch 107/200\n",
      "1188/1188 - 1s - loss: 0.3062 - accuracy: 0.9080\n",
      "Epoch 108/200\n",
      "1188/1188 - 1s - loss: 0.3030 - accuracy: 0.9081\n",
      "Epoch 109/200\n",
      "1188/1188 - 1s - loss: 0.3041 - accuracy: 0.9082\n",
      "Epoch 110/200\n",
      "1188/1188 - 1s - loss: 0.3054 - accuracy: 0.9075\n",
      "Epoch 111/200\n",
      "1188/1188 - 1s - loss: 0.3041 - accuracy: 0.9078\n",
      "Epoch 112/200\n",
      "1188/1188 - 1s - loss: 0.3035 - accuracy: 0.9087\n",
      "Epoch 113/200\n",
      "1188/1188 - 1s - loss: 0.3040 - accuracy: 0.9086\n",
      "Epoch 114/200\n",
      "1188/1188 - 1s - loss: 0.3048 - accuracy: 0.9070\n",
      "Epoch 115/200\n",
      "1188/1188 - 1s - loss: 0.3025 - accuracy: 0.9088\n",
      "Epoch 116/200\n",
      "1188/1188 - 1s - loss: 0.3075 - accuracy: 0.9063\n",
      "Epoch 117/200\n",
      "1188/1188 - 1s - loss: 0.3027 - accuracy: 0.9095\n",
      "Epoch 118/200\n",
      "1188/1188 - 1s - loss: 0.3009 - accuracy: 0.9099\n",
      "Epoch 119/200\n",
      "1188/1188 - 1s - loss: 0.3035 - accuracy: 0.9093\n",
      "Epoch 120/200\n",
      "1188/1188 - 1s - loss: 0.3038 - accuracy: 0.9090\n",
      "Epoch 121/200\n",
      "1188/1188 - 1s - loss: 0.3065 - accuracy: 0.9058\n",
      "Epoch 122/200\n",
      "1188/1188 - 1s - loss: 0.3014 - accuracy: 0.9095\n",
      "Epoch 123/200\n",
      "1188/1188 - 1s - loss: 0.3013 - accuracy: 0.9089\n",
      "Epoch 124/200\n",
      "1188/1188 - 1s - loss: 0.3055 - accuracy: 0.9081\n",
      "Epoch 125/200\n",
      "1188/1188 - 1s - loss: 0.2998 - accuracy: 0.9092\n",
      "Epoch 126/200\n",
      "1188/1188 - 1s - loss: 0.3020 - accuracy: 0.9095\n",
      "Epoch 127/200\n",
      "1188/1188 - 1s - loss: 0.2987 - accuracy: 0.9103\n",
      "Epoch 128/200\n",
      "1188/1188 - 1s - loss: 0.3007 - accuracy: 0.9099\n",
      "Epoch 129/200\n",
      "1188/1188 - 1s - loss: 0.3001 - accuracy: 0.9100\n",
      "Epoch 130/200\n",
      "1188/1188 - 1s - loss: 0.2969 - accuracy: 0.9094\n",
      "Epoch 131/200\n",
      "1188/1188 - 1s - loss: 0.2989 - accuracy: 0.9106\n",
      "Epoch 132/200\n",
      "1188/1188 - 1s - loss: 0.2997 - accuracy: 0.9094\n"
     ]
    },
    {
     "name": "stdout",
     "output_type": "stream",
     "text": [
      "Epoch 133/200\n",
      "1188/1188 - 1s - loss: 0.2962 - accuracy: 0.9108\n",
      "Epoch 134/200\n",
      "1188/1188 - 1s - loss: 0.2970 - accuracy: 0.9111\n",
      "Epoch 135/200\n",
      "1188/1188 - 1s - loss: 0.2995 - accuracy: 0.9102\n",
      "Epoch 136/200\n",
      "1188/1188 - 1s - loss: 0.2996 - accuracy: 0.9092\n",
      "Epoch 137/200\n",
      "1188/1188 - 1s - loss: 0.2994 - accuracy: 0.9100\n",
      "Epoch 138/200\n",
      "1188/1188 - 1s - loss: 0.2962 - accuracy: 0.9105\n",
      "Epoch 139/200\n",
      "1188/1188 - 1s - loss: 0.2994 - accuracy: 0.9098\n",
      "Epoch 140/200\n",
      "1188/1188 - 1s - loss: 0.3000 - accuracy: 0.9105\n",
      "Epoch 141/200\n",
      "1188/1188 - 1s - loss: 0.2961 - accuracy: 0.9098\n",
      "Epoch 142/200\n",
      "1188/1188 - 1s - loss: 0.2990 - accuracy: 0.9100\n",
      "Epoch 143/200\n",
      "1188/1188 - 1s - loss: 0.2949 - accuracy: 0.9112\n",
      "Epoch 144/200\n",
      "1188/1188 - 1s - loss: 0.2971 - accuracy: 0.9100\n",
      "Epoch 145/200\n",
      "1188/1188 - 1s - loss: 0.2967 - accuracy: 0.9099\n",
      "Epoch 146/200\n",
      "1188/1188 - 1s - loss: 0.2954 - accuracy: 0.9107\n",
      "Epoch 147/200\n",
      "1188/1188 - 1s - loss: 0.2998 - accuracy: 0.9103\n",
      "Epoch 148/200\n",
      "1188/1188 - 1s - loss: 0.3005 - accuracy: 0.9091\n",
      "Epoch 149/200\n",
      "1188/1188 - 1s - loss: 0.2942 - accuracy: 0.9111\n",
      "Epoch 150/200\n",
      "1188/1188 - 1s - loss: 0.2965 - accuracy: 0.9108\n",
      "Epoch 151/200\n",
      "1188/1188 - 1s - loss: 0.2964 - accuracy: 0.9106\n",
      "Epoch 152/200\n",
      "1188/1188 - 1s - loss: 0.2987 - accuracy: 0.9107\n",
      "Epoch 153/200\n",
      "1188/1188 - 1s - loss: 0.2954 - accuracy: 0.9101\n",
      "Epoch 154/200\n",
      "1188/1188 - 1s - loss: 0.2962 - accuracy: 0.9100\n",
      "Epoch 155/200\n",
      "1188/1188 - 1s - loss: 0.2916 - accuracy: 0.9116\n",
      "Epoch 156/200\n",
      "1188/1188 - 1s - loss: 0.2962 - accuracy: 0.9112\n",
      "Epoch 157/200\n",
      "1188/1188 - 1s - loss: 0.2986 - accuracy: 0.9113\n",
      "Epoch 158/200\n",
      "1188/1188 - 1s - loss: 0.2989 - accuracy: 0.9103\n",
      "Epoch 159/200\n",
      "1188/1188 - 1s - loss: 0.2949 - accuracy: 0.9103\n",
      "Epoch 160/200\n",
      "1188/1188 - 1s - loss: 0.2938 - accuracy: 0.9110\n",
      "Epoch 161/200\n",
      "1188/1188 - 1s - loss: 0.2982 - accuracy: 0.9100\n",
      "Epoch 162/200\n",
      "1188/1188 - 1s - loss: 0.2933 - accuracy: 0.9122\n",
      "Epoch 163/200\n",
      "1188/1188 - 1s - loss: 0.2946 - accuracy: 0.9109\n",
      "Epoch 164/200\n",
      "1188/1188 - 1s - loss: 0.2954 - accuracy: 0.9108\n",
      "Epoch 165/200\n",
      "1188/1188 - 1s - loss: 0.2955 - accuracy: 0.9116\n",
      "Epoch 166/200\n",
      "1188/1188 - 1s - loss: 0.2939 - accuracy: 0.9120\n",
      "Epoch 167/200\n",
      "1188/1188 - 1s - loss: 0.2951 - accuracy: 0.9114\n",
      "Epoch 168/200\n",
      "1188/1188 - 1s - loss: 0.2919 - accuracy: 0.9124\n",
      "Epoch 169/200\n",
      "1188/1188 - 1s - loss: 0.2933 - accuracy: 0.9114\n",
      "Epoch 170/200\n",
      "1188/1188 - 1s - loss: 0.2955 - accuracy: 0.9099\n",
      "Epoch 171/200\n",
      "1188/1188 - 1s - loss: 0.2958 - accuracy: 0.9102\n",
      "Epoch 172/200\n",
      "1188/1188 - 1s - loss: 0.2923 - accuracy: 0.9120\n",
      "Epoch 173/200\n",
      "1188/1188 - 1s - loss: 0.2958 - accuracy: 0.9102\n",
      "Epoch 174/200\n",
      "1188/1188 - 1s - loss: 0.2930 - accuracy: 0.9122\n",
      "Epoch 175/200\n",
      "1188/1188 - 1s - loss: 0.2919 - accuracy: 0.9124\n",
      "Epoch 176/200\n",
      "1188/1188 - 1s - loss: 0.2918 - accuracy: 0.9126\n",
      "Epoch 177/200\n",
      "1188/1188 - 1s - loss: 0.2948 - accuracy: 0.9118\n",
      "Epoch 178/200\n",
      "1188/1188 - 1s - loss: 0.2922 - accuracy: 0.9114\n",
      "Epoch 179/200\n",
      "1188/1188 - 1s - loss: 0.2924 - accuracy: 0.9117\n",
      "Epoch 180/200\n",
      "1188/1188 - 1s - loss: 0.2935 - accuracy: 0.9118\n",
      "Epoch 181/200\n",
      "1188/1188 - 1s - loss: 0.2913 - accuracy: 0.9123\n",
      "Epoch 182/200\n",
      "1188/1188 - 1s - loss: 0.2898 - accuracy: 0.9126\n",
      "Epoch 183/200\n",
      "1188/1188 - 1s - loss: 0.2910 - accuracy: 0.9123\n",
      "Epoch 184/200\n",
      "1188/1188 - 1s - loss: 0.2920 - accuracy: 0.9119\n",
      "Epoch 185/200\n",
      "1188/1188 - 1s - loss: 0.2913 - accuracy: 0.9131\n",
      "Epoch 186/200\n",
      "1188/1188 - 1s - loss: 0.2943 - accuracy: 0.9106\n",
      "Epoch 187/200\n",
      "1188/1188 - 1s - loss: 0.2912 - accuracy: 0.9114\n",
      "Epoch 188/200\n",
      "1188/1188 - 1s - loss: 0.2926 - accuracy: 0.9114\n",
      "Epoch 189/200\n",
      "1188/1188 - 1s - loss: 0.2952 - accuracy: 0.9105\n",
      "Epoch 190/200\n",
      "1188/1188 - 1s - loss: 0.2909 - accuracy: 0.9127\n",
      "Epoch 191/200\n",
      "1188/1188 - 1s - loss: 0.2906 - accuracy: 0.9128\n",
      "Epoch 192/200\n",
      "1188/1188 - 1s - loss: 0.2940 - accuracy: 0.9124\n",
      "Epoch 193/200\n",
      "1188/1188 - 1s - loss: 0.2938 - accuracy: 0.9116\n",
      "Epoch 194/200\n",
      "1188/1188 - 1s - loss: 0.2904 - accuracy: 0.9113\n",
      "Epoch 195/200\n",
      "1188/1188 - 1s - loss: 0.2906 - accuracy: 0.9126\n",
      "Epoch 196/200\n",
      "1188/1188 - 1s - loss: 0.2923 - accuracy: 0.9119\n",
      "Epoch 197/200\n",
      "1188/1188 - 1s - loss: 0.2909 - accuracy: 0.9124\n",
      "Epoch 198/200\n",
      "1188/1188 - 1s - loss: 0.2903 - accuracy: 0.9126\n",
      "Epoch 199/200\n",
      "1188/1188 - 1s - loss: 0.2914 - accuracy: 0.9114\n",
      "Epoch 200/200\n",
      "1188/1188 - 1s - loss: 0.2897 - accuracy: 0.9116\n"
     ]
    },
    {
     "data": {
      "text/plain": [
       "<tensorflow.python.keras.callbacks.History at 0x2821530e970>"
      ]
     },
     "execution_count": 53,
     "metadata": {},
     "output_type": "execute_result"
    }
   ],
   "source": [
    "model.fit(xtrain, ytrain, epochs=200, verbose=2)"
   ]
  },
  {
   "cell_type": "code",
   "execution_count": 54,
   "id": "3ecf2b57",
   "metadata": {},
   "outputs": [
    {
     "name": "stdout",
     "output_type": "stream",
     "text": [
      "125/125 [==============================] - 0s 727us/step - loss: 0.3905 - accuracy: 0.8942\n"
     ]
    },
    {
     "data": {
      "text/plain": [
       "[0.39049071073532104, 0.8942499756813049]"
      ]
     },
     "execution_count": 54,
     "metadata": {},
     "output_type": "execute_result"
    }
   ],
   "source": [
    "ytest = to_categorical(ytest)\n",
    "model.evaluate(xtest, ytest)"
   ]
  },
  {
   "cell_type": "code",
   "execution_count": null,
   "id": "dec5d454",
   "metadata": {},
   "outputs": [],
   "source": []
  }
 ],
 "metadata": {
  "kernelspec": {
   "display_name": "Python 3 (ipykernel)",
   "language": "python",
   "name": "python3"
  },
  "language_info": {
   "codemirror_mode": {
    "name": "ipython",
    "version": 3
   },
   "file_extension": ".py",
   "mimetype": "text/x-python",
   "name": "python",
   "nbconvert_exporter": "python",
   "pygments_lexer": "ipython3",
   "version": "3.8.5"
  }
 },
 "nbformat": 4,
 "nbformat_minor": 5
}
